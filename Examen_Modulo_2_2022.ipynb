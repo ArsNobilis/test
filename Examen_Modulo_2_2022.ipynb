{
  "nbformat": 4,
  "nbformat_minor": 0,
  "metadata": {
    "colab": {
      "name": "Examen_Modulo_2_2022.ipynb",
      "provenance": [],
      "collapsed_sections": []
    },
    "kernelspec": {
      "name": "python3",
      "display_name": "Python 3"
    }
  },
  "cells": [
    {
      "cell_type": "markdown",
      "metadata": {
        "id": "view-in-github"
      },
      "source": [
        "<a href=\"https://colab.research.google.com/github/al34n1x/DataScience/blob/master/100.Examen/2022/Examen_Modulo_2_2022.ipynb\" target=\"_parent\"><img src=\"https://colab.research.google.com/assets/colab-badge.svg\" alt=\"Open In Colab\"/></a>"
      ]
    },
    {
      "cell_type": "markdown",
      "metadata": {
        "id": "K1GZdTu_qma5",
        "colab_type": "toc"
      },
      "source": [
        ">[Examen Diplomatura de Ciencias de Datos (Gestión y Análisis de datos)](#scrollTo=AHONY2VzigaP)\n",
        "\n",
        ">>[Datos del Grupo](#scrollTo=F2tqo5cDpTwh)\n",
        "\n",
        ">>[Criterio de evaluación](#scrollTo=0Uv0eAi_yqJM)\n",
        "\n",
        ">>[Motivación / Presentación del objeto de estudio](#scrollTo=4nvz_oAulaja)\n",
        "\n",
        ">>[Planteo de hipótesis](#scrollTo=-IqpEYpplfv0)\n",
        "\n",
        ">>[Herramientas utilizadas](#scrollTo=E5IWMd7slHcT)\n",
        "\n",
        ">>[Carga de datos](#scrollTo=GKGQtOYmlNH9)\n",
        "\n",
        ">>[Limpieza de datos](#scrollTo=GzAkqPqNlRa_)\n",
        "\n",
        ">>[Transformación de datos](#scrollTo=4B8GBZEilTLI)\n",
        "\n",
        ">>[Análisis y Visualizaciones](#scrollTo=GzJn9nnFlVSY)\n",
        "\n",
        ">>[Conclusiones](#scrollTo=vETxla64lXWk)\n",
        "\n",
        ">>[Almacenamiento de resultados](#scrollTo=Kaj-iJKelY-c)\n",
        "\n"
      ]
    },
    {
      "cell_type": "markdown",
      "metadata": {
        "id": "AHONY2VzigaP"
      },
      "source": [
        "# Examen Diplomatura de Ciencias de Datos (Gestión y Análisis de datos)\n",
        "\n",
        "A continuación, se detallan las indicaciones para la resolución del examen. Tenga a bien leer todas las instrucciones y no dude en consultar si tiene alguna duda.\n",
        "\n",
        "1. El examen se realiza de forma grupal de acuerdo a la asignación previamente realizada (Grupo 1, Grupo 2, Grupo 3, Grupo 4).\n",
        "2. La fecha de entrega de trabajo es el Viernes 8 de Julio a las 18:30 hs (Argentina), vía mail con copia a los profesores del curso:\n",
        "\n",
        "- manquintana@uade.edu.ar\n",
        "- mscavarda@uade.edu.ar\n",
        "- rucasas@uade.edu.ar\n",
        "- sbarreda@uade.edu.ar\n",
        "\n",
        "No olvidar adjuntar los dataset en caso que estos no estén disponibles en la web (API, Webpage, etc).\n",
        "3. Tanto el código como el análisis y las visualizaciones se deben entregan en un notebook en formato **.ipynb**.\n",
        "4. Puede utilizar diferentes herramientas para el desarrollo como Jupyter, Collab, Spyder o VSCode, sin embargo, el trabajo final debe ser entregado en un notebook como está estipulado en el punto 3.\n",
        "5. Para visualizaciones se deben usar las librerías **matplotlib** y **seaborn** como requisito mínimo, y\n",
        "al menos 3 visualizaciones deben estar realizadas directamente sobre **matplotlib**\n",
        "6. La defensa del trabajo se realizará el Lunes 11 de julio de forma grupal. Se les brindará un espacio entre 20-30 minutos para la exposición y luego habrá espacio a preguntas sobre el trabajo.\n",
        "7. La nota se obtendrá en base a un promedio entre el desarrollo del trabajo, defensa del mismo en forma grupal y exposición individual. \n",
        "8. Los dataset a utilizar son libres, siempre y cuando tengan la confirmación de los docentes (la semana del 27 de junio tienen tiempo de hacer un primer análisis y presentar sus propuestas). En caso que no consigan un dataset que les sea de interés se les proveerá uno.\n",
        "\n",
        "---\n",
        "\n",
        "\n"
      ]
    },
    {
      "cell_type": "markdown",
      "metadata": {
        "id": "F2tqo5cDpTwh"
      },
      "source": [
        "## Datos del Grupo\n",
        "\n",
        "Nombre y Apellido | LU\n",
        "------------------|---\n",
        "\n",
        "\n",
        "\n",
        "---\n",
        "\n",
        "\n"
      ]
    },
    {
      "cell_type": "markdown",
      "metadata": {
        "id": "0Uv0eAi_yqJM"
      },
      "source": [
        "## Criterio de evaluación\n",
        "\n",
        "Los dataset elegidos deben ser importados y proceder a trabajar con los mismos aplicando los conceptos de limpieza, gestión y transformaciones con el objetivo de encontrar patrones y realizar visualizaciones.\n",
        "\n",
        "Como parte del examen se evaluarán los siguientes conceptos:\n",
        "\n",
        "* Importar datos desde fuentes externas\n",
        "* Limpieza de datos\n",
        "* Gestión de datos y transformaciones\n",
        "* Técnicas para rellenar nulos\n",
        "* Visualizaciones\n",
        "* Almacenamiento de resultados\n",
        "* Claridad en el storytelling\n",
        "* Coherencia en la presentación (colores, estilos, formatos, convenciones, etc).\n",
        "* [BONUS]: Se tendrá en consideración el utilizar datos de diversas fuentes, el analizar datos de naturaleza diversa (tiempo, geolocalización, análisis de lenguaje natural -NLP-, etc).\n",
        "\n",
        "Los dataset deberán contar con información diversa que permita trabajar además de la limpieza, con **al menos**:\n",
        "- Series temporales\n",
        "- Transformación de datos\n",
        "- Diversos tipos de visualizaciones\n",
        "---\n",
        "\n"
      ]
    },
    {
      "cell_type": "markdown",
      "source": [
        "## Motivación / Presentación del objeto de estudio"
      ],
      "metadata": {
        "id": "4nvz_oAulaja"
      }
    },
    {
      "cell_type": "markdown",
      "source": [
        "## Planteo de hipótesis"
      ],
      "metadata": {
        "id": "-IqpEYpplfv0"
      }
    },
    {
      "cell_type": "markdown",
      "source": [
        "## Herramientas utilizadas\n",
        "\n",
        "\n",
        "\n"
      ],
      "metadata": {
        "id": "E5IWMd7slHcT"
      }
    },
    {
      "cell_type": "markdown",
      "source": [
        "\n",
        "## Carga de datos\n",
        "\n"
      ],
      "metadata": {
        "id": "GKGQtOYmlNH9"
      }
    },
    {
      "cell_type": "markdown",
      "source": [
        "## Limpieza de datos\n",
        "\n"
      ],
      "metadata": {
        "id": "GzAkqPqNlRa_"
      }
    },
    {
      "cell_type": "markdown",
      "source": [
        "## Transformación de datos\n",
        "\n"
      ],
      "metadata": {
        "id": "4B8GBZEilTLI"
      }
    },
    {
      "cell_type": "markdown",
      "source": [
        "## Análisis y Visualizaciones\n",
        "\n"
      ],
      "metadata": {
        "id": "GzJn9nnFlVSY"
      }
    },
    {
      "cell_type": "markdown",
      "source": [
        "## Conclusiones\n"
      ],
      "metadata": {
        "id": "vETxla64lXWk"
      }
    },
    {
      "cell_type": "markdown",
      "source": [
        "## Almacenamiento de resultados"
      ],
      "metadata": {
        "id": "Kaj-iJKelY-c"
      }
    }
  ]
}
